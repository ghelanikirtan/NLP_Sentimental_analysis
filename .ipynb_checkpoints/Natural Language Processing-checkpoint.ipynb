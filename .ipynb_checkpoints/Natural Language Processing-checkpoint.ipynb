{
 "cells": [
  {
   "cell_type": "markdown",
   "id": "ae5af3ed",
   "metadata": {},
   "source": [
    "# Natural Language Processing (NLP)"
   ]
  },
  {
   "cell_type": "markdown",
   "id": "2ddd1074",
   "metadata": {},
   "source": [
    "- **Basic Steps involved in NLP with the help of Natural Language Tool Kit (nltk) as follow**:\n",
    "\n",
    "> 1. Tokenization.\n",
    "> 2. Stop Word Exclusion.\n",
    "> 3. Stemming / Lemmatization.\n",
    "> 4. POS Tagging (Part-of-Speech)\n",
    "> 5. Chunking (using Regular Expressions & RegexParser)\n",
    "> 6. NER (Named Entity Recognition) - kind of Forming groups of similar kinds `ne_chunk()`\n",
    "\n",
    "\n"
   ]
  },
  {
   "cell_type": "markdown",
   "id": "92565ade",
   "metadata": {},
   "source": [
    "---"
   ]
  },
  {
   "cell_type": "markdown",
   "id": "df0877ec",
   "metadata": {},
   "source": [
    "## NLTK Installation:\n",
    "\n",
    "`pip install nltk`\n",
    "\n",
    "---"
   ]
  },
  {
   "cell_type": "markdown",
   "id": "b452c9a8",
   "metadata": {},
   "source": [
    "## Importing Necessary Dependencies:"
   ]
  },
  {
   "cell_type": "code",
   "execution_count": 1,
   "id": "1e6237e1",
   "metadata": {},
   "outputs": [],
   "source": [
    "import pandas as pd\n",
    "import numpy as np\n",
    "import matplotlib.pyplot as plt\n",
    "import seaborn as sns\n",
    "import random\n",
    "\n",
    "# Natural Language Tool kit\n",
    "import nltk\n",
    "# nltk.download('package_name') - for installation of nltk packages\n",
    "\n",
    "plt.style.use(\"ggplot\")"
   ]
  },
  {
   "cell_type": "code",
   "execution_count": null,
   "id": "8b8f5c75",
   "metadata": {},
   "outputs": [],
   "source": []
  }
 ],
 "metadata": {
  "kernelspec": {
   "display_name": "Python 3 (ipykernel)",
   "language": "python",
   "name": "python3"
  },
  "language_info": {
   "codemirror_mode": {
    "name": "ipython",
    "version": 3
   },
   "file_extension": ".py",
   "mimetype": "text/x-python",
   "name": "python",
   "nbconvert_exporter": "python",
   "pygments_lexer": "ipython3",
   "version": "3.9.13"
  }
 },
 "nbformat": 4,
 "nbformat_minor": 5
}
